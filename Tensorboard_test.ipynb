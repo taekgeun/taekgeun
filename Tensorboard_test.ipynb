{
 "cells": [
  {
   "cell_type": "code",
   "execution_count": 1,
   "metadata": {},
   "outputs": [],
   "source": [
    "from torch.utils.tensorboard import SummaryWriter\n",
    "import pandas as pd\n",
    "df = pd.read_csv('history.csv', header=None)\n",
    "df.columns = ['loss', 'sparse_categorical_accuracy']\n",
    "writer = SummaryWriter()\n",
    "for idx, row in df.iterrows():\n",
    "    writer.add_scalar('Loss/train', row.loss, idx+1)\n",
    "    writer.add_scalar('Accuracy/train', row.sparse_categorical_accuracy, idx+1)\n",
    "writer.close()"
   ]
  }
 ],
 "metadata": {
  "interpreter": {
   "hash": "598454d36648bd7439b73c3d247bcb41f22f551f84836f2cd11744faab06e470"
  },
  "kernelspec": {
   "display_name": "Python 3.7.10 64-bit ('wildfire': conda)",
   "language": "python",
   "name": "python3"
  },
  "language_info": {
   "codemirror_mode": {
    "name": "ipython",
    "version": 3
   },
   "file_extension": ".py",
   "mimetype": "text/x-python",
   "name": "python",
   "nbconvert_exporter": "python",
   "pygments_lexer": "ipython3",
   "version": "3.7.10"
  },
  "orig_nbformat": 4
 },
 "nbformat": 4,
 "nbformat_minor": 2
}
